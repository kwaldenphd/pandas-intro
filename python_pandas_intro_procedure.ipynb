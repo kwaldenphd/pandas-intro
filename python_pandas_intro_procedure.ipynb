{
  "cells": [
    {
      "cell_type": "markdown",
      "metadata": {
        "id": "view-in-github",
        "colab_type": "text"
      },
      "source": [
        "<a href=\"https://colab.research.google.com/github/kwaldenphd/pandas-intro/blob/main/python_pandas_intro_procedure.ipynb\" target=\"_parent\"><img src=\"https://colab.research.google.com/assets/colab-badge.svg\" alt=\"Open In Colab\"/></a>"
      ]
    },
    {
      "cell_type": "markdown",
      "source": [
        "# Introduction to Pandas\n",
        "\n",
        "<a href=\"http://creativecommons.org/licenses/by-nc/4.0/\" rel=\"license\"><img style=\"border-width: 0;\" src=\"https://i.creativecommons.org/l/by-nc/4.0/88x31.png\" alt=\"Creative Commons License\" /></a>\n",
        "This tutorial is licensed under a <a href=\"http://creativecommons.org/licenses/by-nc/4.0/\" rel=\"license\">Creative Commons Attribution-NonCommercial 4.0 International License</a>."
      ],
      "metadata": {
        "id": "SDwkcHtT-R-z"
      }
    },
    {
      "cell_type": "markdown",
      "source": [
        "## Lab Goals\n",
        "\n",
        "This lab covers the core components of `pandas`, including `Series` and `DataFrame` objects. It covers how to manually create and interact with `Series` and `DataFrame` objects in the Python programming environment. It covers loading a structured data file (CSV and JSON) as a `DataFrame`, and sorting, selecting, and filtering the resulting `DataFrame`. The lab also covers common data parsing and wrangling challenges like duplicate entries and missing data.\n",
        "\n",
        "By the end of this lab, students will be able to;\n",
        "- Understand the basic components of `Series` and `DataFrame` objects in `pandas`\n",
        "- Manually create `Series` and `DataFrame` objects in Python using `pandas`\n",
        "- Load a structured data file as a `DataFrame` in Python using `pandas`\n",
        "- Interact with a `DataFrame` using sorting, selecting, and filtering operations\n",
        "- Remove duplicate rows from a `DataFrame`\n",
        "- Understand how to approach common `DataFrame` parsing and loading errors using `pandas`\n",
        "- Understand the basic components of how to handle missing values in a `DataFrame`\n",
        "\n",
        "<table>\n",
        " <tr><td>\n",
        "<img src=\"https://elearn.southampton.ac.uk/wp-content/blogs.dir/sites/64/2021/04/PanPan.png\" alt=\"Panopto logo\" width=\"50\"/></td>\n",
        "  <td><a href=\"https://notredame.hosted.panopto.com/Panopto/Pages/Viewer.aspx?id=3965867c-06aa-4a87-b8b1-ad6b00256645\">Lab overview</a></td>\n",
        "  </tr>\n",
        "  </table>\n",
        "  \n",
        "<table>\n",
        " <tr><td>\n",
        "<img src=\"https://elearn.southampton.ac.uk/wp-content/blogs.dir/sites/64/2021/04/PanPan.png\" alt=\"Panopto logo\" width=\"50\"/></td>\n",
        "<td><a href=\"https://notredame.hosted.panopto.com/Panopto/Pages/Viewer.aspx?pid=b6c5cfc5-45ca-4133-880b-ae300137167b\">Lecture/live coding playlist</a></td>\n",
        "  </tr>\n",
        "  </table>"
      ],
      "metadata": {
        "id": "k7B1bdB_-S_L"
      }
    },
    {
      "cell_type": "markdown",
      "source": [
        "## Acknowledgements\n",
        "\n",
        "Information and exercises in this lab are adapted from the following resources:\n",
        "- `pandas` package [\"Getting started\"](https://pandas.pydata.org/pandas-docs/stable/getting_started/intro_tutorials/) documentation.\n",
        "- Wes McKinney's [*Python for Data Analysis: Data Wrangling With pandas, Numpy, and IPython*](https://www.oreilly.com/library/view/python-for-data/9781491957653/) (O'Reilly, 2017)\n",
        "  * Chapter 5 \"Getting Started with pandas\" (125-168)\n",
        "  * Chapter 7 \"Data Cleaning and Preparation\" (195-224)\n",
        "  * Chapter 8 \"Data Wrangling: Join, Combine, and Reshape\" (225-256)\n",
        "  * Chapter 10 \"Data Aggregation and Group Operations\" (293-322)"
      ],
      "metadata": {
        "id": "6LBwgbdB-UFG"
      }
    },
    {
      "cell_type": "markdown",
      "source": [
        "# Lecture and Live Coding\n",
        "\n",
        "Throughout this lab, you will see a Panopto icon at the start of select sections.\n",
        "\n",
        "This icon indicates there is lecture/live coding asynchronous content that accompanies this section of the lab. \n",
        "\n",
        "You can click the link in the figure caption to access these materials (ND users only).\n",
        "\n",
        "Example:\n",
        "\n",
        "<table>\n",
        " <tr><td>\n",
        "<img src=\"https://elearn.southampton.ac.uk/wp-content/blogs.dir/sites/64/2021/04/PanPan.png\" alt=\"Panopto logo\" width=\"50\"/></td>\n",
        "  <td><a href=\"https://notredame.hosted.panopto.com/Panopto/Pages/Viewer.aspx?id=3965867c-06aa-4a87-b8b1-ad6b00256645\">Lab overview</a></td>\n",
        "  </tr>\n",
        "  </table>\n",
        "  \n",
        "<table>\n",
        " <tr><td>\n",
        "<img src=\"https://elearn.southampton.ac.uk/wp-content/blogs.dir/sites/64/2021/04/PanPan.png\" alt=\"Panopto logo\" width=\"50\"/></td>\n",
        "<td><a href=\"https://notredame.hosted.panopto.com/Panopto/Pages/Viewer.aspx?pid=b6c5cfc5-45ca-4133-880b-ae300137167b\">Lecture/live coding playlist</a></td>\n",
        "  </tr>\n",
        "  </table>\n"
      ],
      "metadata": {
        "id": "2Zdx6vJe-Vlk"
      }
    },
    {
      "cell_type": "markdown",
      "source": [
        "# Lab Notebook Template\n",
        "\n",
        "Lab notebook template:\n",
        "- [Jupyter Notebook](https://drive.google.com/file/d/1n0wgG7MpxDjuP_gwcSQlm1onxvYQkYTs/view?usp=sharing)"
      ],
      "metadata": {
        "id": "48J8TtJF-Whm"
      }
    },
    {
      "cell_type": "markdown",
      "source": [
        "# What do we mean by pandas\n",
        "\n",
        "<table>\n",
        " <tr><td>\n",
        "<img src=\"https://elearn.southampton.ac.uk/wp-content/blogs.dir/sites/64/2021/04/PanPan.png\" alt=\"Panopto logo\" width=\"50\"/></td>\n",
        "  <td><a href=\"https://notredame.hosted.panopto.com/Panopto/Pages/Viewer.aspx?id=3965867c-06aa-4a87-b8b1-ad6b00256645\">Pandas Intro</a></td>\n",
        "  </tr>\n",
        "  </table>\n",
        "  \n",
        "1. Some of you may be wondering why we are talking about pandas in a computer science course.\n",
        "\n",
        "2. What is a panda?\n",
        "\n",
        "<p align=\"center\"><a href=\"https://github.com/kwaldenphd/pandas-intro/blob/main/Figure_2.png?raw=true\"><img class=\"aligncenter\" src=\"https://github.com/kwaldenphd/pandas-intro/blob/main/Figure_2.png?raw=true\" /></a></p>\n",
        "\n",
        "3. Panda: \"a large black-and-white mammal (Ailuropoda melanoleuca) of chiefly central China that feeds primarily on bamboo shoots and is now usually classified with the bears (family Ursidae)\" ([Merriam-Webster](https://www.merriam-webster.com/dictionary/panda))\n",
        "\n",
        "4. Wait that's not right....\n",
        "\n",
        "5. `pandas`: \"a fast, powerful, flexible and easy to use open source data analysis and manipulation tool, built on top of the Python programming language\" ([`pandas` documentation](https://pandas.pydata.org/))\n",
        "\n",
        "6. That makes more sense.\n",
        "\n",
        "7. If you remember back to our earlier work with `.csv` files in Python, there are limitations to the kinds of things we can do with structured data using the `csv` module.\n",
        "\n",
        "8. Particularly if we want to analyze and visualze structured data in a Python programming environment, we aren't going to get very far loading `csv` files as lists or dictionaries.\n",
        "\n",
        "9. We need Python to understand or interact with structured data as structured data.\n",
        "\n",
        "10. Enter `pandas`.\n",
        "\n",
        "11. Software developers at AQR Capital Management began working on a Python-based tool (written in a combination of C and Python) for quantitative data analysis in 2008.\n",
        "\n",
        "12. The initial open-source version of `pandas` was released in 2008.\n",
        "\n",
        "13. At its core, \"`pandas` is a software library written for the Python programming language for data manipulation and analysis. In particular, it offers data structures and operations for manipulating numerical tables and time series\" ([Wikipedia](https://en.wikipedia.org/wiki/Pandas_(software)).\n",
        "\n",
        "14. The name `pandas` is derived from \"panel data,\" an econometrics term used to describe particular types of datasets.\n",
        "\n",
        "15. The name `pandas` is also a play on \"Python data analysis.\"\n",
        "\n",
        "16. For more on the history and origins of `pandas`, check out Wes McKinney's [\"pandas: a Foundational Python Library for Data Analysis and Statistics\"](https://www.dlr.de/sc/Portaldata/15/Resources/dokumente/pyhpc2011/submissions/pyhpc2011_submission_9.pdf) 2011 paper.\n",
        "\n",
        "17. `pandas` is based on and has some similarities with another Python package, `NumPy`.\n",
        "\n",
        "18. According to [package documentation](https://numpy.org/doc/stable/user/whatisnumpy.html), \"`NumPy` is the fundamental package for scientific computing in Python. It is a Python library that provides a multidimensional array object, various derived objects (such as masked arrays and matrices), and an assortment of routines for fast operations on arrays, including mathematical, logical, shape manipulation, sorting, selecting, I/O, discrete Fourier transforms, basic linear algebra, basic statistical operations, random simulation and much more.\"\n",
        "\n",
        "19. In `NumPy`, data are stored as list-like objects called arrays. \n",
        "\n",
        "20. `NumPy` allows users to access, split, reshape, join, etc. data stored in arrays.\n",
        "\n",
        "21. `pandas` takes a similar approach to structured data, or data organized in a tabular (i.e. table-like) format.\n",
        "\n",
        "22. \"pandas adopts significant parts of NumPy's idiomatic style of array-based computing, especially array-based functions and a preference for data processing without for loops...the biggest difference is that pandas is designed for working with tabular or heterogeneous data. NumPy, by contrast, is best suited for working with homogenous numerical array data\" (Wes McKinney, Chapter 5 \"Getting Started with Pandas\" in *Python for Data Analysis*, pg. 125)\n",
        "\n",
        "23. For more on `NumPy`:\n",
        "- [NumPy website](https://numpy.org/)\n",
        "- [NumPy documentation](https://numpy.org/doc/stable/)\n",
        "- [\"NumPy Introduction,\" W3Schools](https://www.w3schools.com/python/numpy_intro.asp)\n",
        "- [\"Introduction to NumPy Tutorial,\" Software Carpentry](https://software-carpentry.org/blog/2012/06/introduction-to-numpy-tutorial.html)"
      ],
      "metadata": {
        "id": "oUsmQf7q-YWr"
      }
    },
    {
      "cell_type": "markdown",
      "source": [
        "# Data structures in `pandas`\n",
        "\n",
        "24. `pandas` has two main data structures: `Series` and `DataFrame`."
      ],
      "metadata": {
        "id": "P-hHQYfc-ZMP"
      }
    },
    {
      "cell_type": "markdown",
      "source": [
        "## `Series`\n",
        "\n",
        "25. In `pandas`, \"a `Series` is a one-dimensional, array-like object containing a sequence of values...and an associated array of data labels, called its index\" (McKinney, 126).\n",
        "\n",
        "26. At first glance, a `Series` looks a lot like a Python list."
      ],
      "metadata": {
        "id": "El2B7I6V-aBK"
      }
    },
    {
      "cell_type": "code",
      "source": [
        "# import pandas package\n",
        "import pandas as pd\n",
        "\n",
        "# import Series and Data Frame components from pandas\n",
        "from pandas import Series, DataFrame\n",
        "\n",
        "# create a Series using pandas\n",
        "obj = pd.Series([4, 7, -5, 3])\n",
        "\n",
        "# show obj Series \n",
        "obj"
      ],
      "metadata": {
        "id": "JE4XkEbH-a3y"
      },
      "execution_count": null,
      "outputs": []
    },
    {
      "cell_type": "markdown",
      "source": [
        "27. In this example, we imported the `pandas` package as well as the specific `Series` and `DataFrame` components of the module.\n",
        "\n",
        "28. We created a `Series` object containing four integer values.\n",
        "\n",
        "29. When working in `pandas`, most commands begin with `pd.`\n",
        "\n",
        "30. We could create a list with these values, but for data analysis we needed the functionality `pandas` provides for working with series.\n",
        "\n",
        "31. To verify `obj` is stored as an array-like object, we can use `obj.values` which should return `array([4, 7, -5, 3])`\n",
        "\n",
        "32. We can also get the index attributes for `obc` using `obj.index`, which should return `RangeIndex(start=0, stop=4, step=1)`.\n",
        "\n",
        "33. The default index attributes assigned to objects in an array are integers `0` through `N-1`, where `N` is the length of the data.\n",
        "\n",
        "34. We can create our own index attributes for the data points by manually creating index labels."
      ],
      "metadata": {
        "id": "eSgdOkkhB1lx"
      }
    },
    {
      "cell_type": "code",
      "source": [
        "# create obj2 series with index attributes\n",
        "obj2 = pd.Series([4, 7, -5, 3], index=['d', 'b', 'a', 'c'])\n",
        "\n",
        "# show obj2 series\n",
        "obj2"
      ],
      "metadata": {
        "id": "LbBHEpKaB3r6"
      },
      "execution_count": null,
      "outputs": []
    },
    {
      "cell_type": "markdown",
      "source": [
        "35. The index-value link lets us interact with a `Series` object similar to how we would work with Python dictionary key-value pairs.\n"
      ],
      "metadata": {
        "id": "x1FxiR10B4m0"
      }
    },
    {
      "cell_type": "code",
      "source": [
        "# access Series value using index label\n",
        "obj2['a'] \n",
        "\n",
        "# this returns -5"
      ],
      "metadata": {
        "id": "x0OQ6W4IB5oD"
      },
      "execution_count": null,
      "outputs": []
    },
    {
      "cell_type": "code",
      "source": [
        "# assign value for index\n",
        "obj2['d'] = 6\n",
        "\n",
        "obj2['d']\n",
        "\n",
        "# this returns 6, our newly-assigned value for index 'd'"
      ],
      "metadata": {
        "id": "HMdh54BsB6XH"
      },
      "execution_count": null,
      "outputs": []
    },
    {
      "cell_type": "code",
      "source": [
        "# access multiple values in Series object using index\n",
        "obj2[['c', 'a', 'd']]\n",
        "\n",
        "# this returns the index-value pairs for the specified index labels"
      ],
      "metadata": {
        "id": "VfTLp_dWB7fZ"
      },
      "execution_count": null,
      "outputs": []
    },
    {
      "cell_type": "markdown",
      "source": [
        "36. We can also use Python's built-in arithmetic functionality for values in a `Series` object.\n"
      ],
      "metadata": {
        "id": "RFA56M-IB8Q4"
      }
    },
    {
      "cell_type": "code",
      "source": [
        "# select values in the Series that meet a specific condition\n",
        "obj2[obj2 > 0]\n",
        "\n",
        "# returns index-value pairs for values greater than 0"
      ],
      "metadata": {
        "id": "1aX_PPUbCCAY"
      },
      "execution_count": null,
      "outputs": []
    },
    {
      "cell_type": "code",
      "source": [
        "# multiply all values in Series\n",
        "obj * 2\n",
        "\n",
        "# returns modified values"
      ],
      "metadata": {
        "id": "TRBdoMPwCCr2"
      },
      "execution_count": null,
      "outputs": []
    },
    {
      "cell_type": "code",
      "source": [
        "# perform NumPy's exponent calculation functionality on Series values\n",
        "np.exp(obj2)\n",
        "\n",
        "# returns exponent float values"
      ],
      "metadata": {
        "id": "LQ0p1YJCCDaa"
      },
      "execution_count": null,
      "outputs": []
    },
    {
      "cell_type": "markdown",
      "source": [
        "37. Try to perform similar mathematical operations on values stored in a Python dictionary or list and you'll run into all kinds of data type errors.\n",
        "\n",
        "38. The `Series` object uses a similar data structure and opens up a wide range of analysis possibilities.\n",
        "\n",
        "39. To create a `Series` from data in a Python dictionary:"
      ],
      "metadata": {
        "id": "xasHR19jCEep"
      }
    },
    {
      "cell_type": "code",
      "source": [
        "# create dictionary\n",
        "sdata = {'Ohio': 35000, 'Texas': 71000, 'Oregon': 16000, 'Utah': 5000}\n",
        "\n",
        "# create Series from dict dictionary\n",
        "obj3 = pd.Series(sdata)"
      ],
      "metadata": {
        "id": "dM5ni7DgCFPV"
      },
      "execution_count": null,
      "outputs": []
    },
    {
      "cell_type": "markdown",
      "source": [
        "40. Let's say we wanted to have the `Series` values appear in a specific order.\n",
        "\n",
        "41. We can specify the index (or key) label order when converting a dictionary to a Series."
      ],
      "metadata": {
        "id": "glql_ZbzCGM1"
      }
    },
    {
      "cell_type": "code",
      "source": [
        "# create dictionary\n",
        "sdata = {'Ohio': 35000, 'Texas': 71000, 'Oregon': 16000, 'Utah': 5000}\n",
        "\n",
        "# list of index labels\n",
        "states = ['California', 'Ohio', 'Oregon', 'Texas']\n",
        "\n",
        "# create Series from dict dictionary\n",
        "obj4 = pd.Series(sdata, index=states)\n",
        "\n",
        "# see output for new obj4 series\n",
        "obj4"
      ],
      "metadata": {
        "id": "rMMnOw7JCHGX"
      },
      "execution_count": null,
      "outputs": []
    },
    {
      "cell_type": "markdown",
      "source": [
        "42. A few things have happened here.\n",
        "\n",
        "43. The `California` index is returning `NaN` for its value, which is \"not a number\" or \"NA\".\n",
        "\n",
        "44. The `Utah` value in `sdata` is not in the `obj4` series, because the idex label `Utah` was not in the manually assigned list of index values passed to the series through `index=true`.\n",
        "\n",
        "45. We can use the `isnull()` or `notnull()` functions in `pandas` to detect missing data.\n",
        "\n",
        "46. These functions will return `TRUE` or `FALSE`."
      ],
      "metadata": {
        "id": "x7YuescTCICQ"
      }
    },
    {
      "cell_type": "code",
      "source": [
        "# test for null values for each index label\n",
        "pd.isnull(obj4)\n",
        "\n",
        "# output will be FALSE for all but California"
      ],
      "metadata": {
        "id": "296_duz7CI3J"
      },
      "execution_count": null,
      "outputs": []
    },
    {
      "cell_type": "code",
      "source": [
        "# test for not null values\n",
        "pd.notnull(obj4)\n",
        "\n",
        "# output will be TRUE for all but California"
      ],
      "metadata": {
        "id": "XBzNjI6DCJte"
      },
      "execution_count": null,
      "outputs": []
    },
    {
      "cell_type": "markdown",
      "source": [
        "47. We can assign a name for our `Series` object and its index values using the `name` attribute.\n"
      ],
      "metadata": {
        "id": "gULZ3f9kCKyA"
      }
    },
    {
      "cell_type": "code",
      "source": [
        "# assign name to Series object\n",
        "obj4.name = 'population'\n",
        "\n",
        "# assign name to index\n",
        "obj4.index.name = 'state'\n",
        "\n",
        "# view updated Series\n",
        "obj4"
      ],
      "metadata": {
        "id": "FRchxmoZCLqy"
      },
      "execution_count": null,
      "outputs": []
    },
    {
      "cell_type": "markdown",
      "source": [
        "48. The output for `obj4` now reflects our newly-assigned `name` attribute values.\n",
        "\n",
        "<blockquote>Q1: Describe a Series object in your own words.</blockquote>\n",
        "\n",
        "<blockquote>Q2: Create your own Series object. Write code the accomplishes the following tasks. Include code + comments.\n",
        " <ul>\n",
        "  <li>Assign unique index attributes for each series value</li>\n",
        "  <li>Access a series value(s) using the index label</li>\n",
        "  <li>Perform at least two unique arithmetic operations on the Series</li>\n",
        "  <li>Test for null values in your series</li>\n",
        " </ul>\n",
        " </blockquote>\n",
        " \n",
        "## `DataFrame`\n",
        "\n",
        "49. While a `Series` object is a one-dimensional array, a `DataFrame` includes a tabular data structure \"and contains an ordered collection of columns, each of which can be a different value type\" (McKinney, 130).\n",
        "\n",
        "50. A `pandas` `DataFrame` has a row and column index--we can think of these as Series that all share the same index.\n",
        "\n",
        "51. Behold, a two-dimensional data structure. \n",
        "\n",
        "52. In most situations, you'll create a `DataFrame` by reading in a structured data file.\n",
        "\n",
        "53. But we're going to manually create a `DataFrame` to better understand how they work in `pandas`.\n",
        "\n",
        "54. Let's go back to our state population data example.\n",
        "\n",
        "55. Say we have two dictionaries that include equal-length lists:"
      ],
      "metadata": {
        "id": "yPVnj9qOCNGV"
      }
    },
    {
      "cell_type": "code",
      "source": [
        "# create dictionary with three equal-length lists\n",
        "data = {'state': ['Ohio', 'Ohio', 'Ohio', 'Nevada', 'Nevada', 'Nevada'], \n",
        "        'year': [2000, 2001, 2002, 2001, 2002, 2003],\n",
        "        'pop': [1.5, 1.7, 3.6, 2.4, 2.9, 3.2]}\n",
        "\n",
        "# write data dictionary values to data frame\n",
        "frame = pd.DataFrame(data)\n",
        "\n",
        "# show newly-created frame\n",
        "frame"
      ],
      "metadata": {
        "id": "sXqoZ14gCOBd"
      },
      "execution_count": null,
      "outputs": []
    },
    {
      "cell_type": "markdown",
      "source": [
        "56. Behold, a two-dimensional `DataFrame` object with rows, columns, labels, and values.\n",
        "\n",
        "57. The first object from each of the lists in our `data` dictionary now populate the first row of our `frame` DataFrame.\n",
        "\n",
        "58. This pattern continues for subsequent rows.\n",
        "\n",
        "59. We can start to explore the dimensions or overall characteristics of our DataFrame:"
      ],
      "metadata": {
        "id": "TqowrfgvCO9o"
      }
    },
    {
      "cell_type": "code",
      "source": [
        "# shows index labels and values for first 5 rows\n",
        "frame.head(5)\n",
        "\n",
        "# shows list of column labels\n",
        "frame.columns.values\n",
        "\n",
        "# shows basic statistical information for the data frame\n",
        "frame.describe()"
      ],
      "metadata": {
        "id": "FVM8O4KLCP1G"
      },
      "execution_count": null,
      "outputs": []
    },
    {
      "cell_type": "markdown",
      "source": [
        "60. The last command `.describe()` returns some statistical information about values in our dataset, including:\n",
        "- count\n",
        "- mean\n",
        "- standard deviation\n",
        "- minimum\n",
        "- 25th percentile\n",
        "- 50th percentile\n",
        "- 75th percentile\n",
        "- maximum\n",
        "\n",
        "61. Let's say we want to specify the column sequence or the order in which columns are arranged in the `DataFrame`:"
      ],
      "metadata": {
        "id": "oGIyeiA8CQ1F"
      }
    },
    {
      "cell_type": "code",
      "source": [
        "pd.DataFrame(data, columns=['year', 'state', 'pop'])\n"
      ],
      "metadata": {
        "id": "7tP-z0R8CRiJ"
      },
      "execution_count": null,
      "outputs": []
    },
    {
      "cell_type": "markdown",
      "source": [
        "62. What happens if we specify a column that isn't represented in the data passed to the `DataFrame`? \n"
      ],
      "metadata": {
        "id": "PD51BpTTCSTj"
      }
    },
    {
      "cell_type": "code",
      "source": [
        "# create new dataframe from data dictionary with specific columns and index labels\n",
        "frame2 = pd.DataFrame(data, columns=['year', 'state', 'pop', 'debt'], index=['one', 'two', 'three', 'four', 'five', 'six'])\n",
        "\n",
        "# show frame2 DataFrame\n",
        "frame2"
      ],
      "metadata": {
        "id": "VvZsC_XACTO2"
      },
      "execution_count": null,
      "outputs": []
    },
    {
      "cell_type": "markdown",
      "source": [
        "63. We see only `NaN` missing values for the `debt` column since that column is not represented in the `data` dictionary used to create our `frame2` DataFrame.\n",
        "\n",
        "64. We can select columns in our `DataFrame` using their index labels."
      ],
      "metadata": {
        "id": "_Kuak3PnCULm"
      }
    },
    {
      "cell_type": "code",
      "source": [
        "frame2['state']\n",
        "\n",
        "# returns state column"
      ],
      "metadata": {
        "id": "DSeh9ijZCU5s"
      },
      "execution_count": null,
      "outputs": []
    },
    {
      "cell_type": "markdown",
      "source": [
        "65. We can also select a column using the `name` attribute.\n"
      ],
      "metadata": {
        "id": "7zXksrKbCVxK"
      }
    },
    {
      "cell_type": "code",
      "source": [
        "frame2.year\n",
        "\n",
        "# returns year column"
      ],
      "metadata": {
        "id": "2Htx-wU7CWf6"
      },
      "execution_count": null,
      "outputs": []
    },
    {
      "cell_type": "markdown",
      "source": [
        "66. We can retrieve rows based on their position using the `loc` (location) attribute.\n"
      ],
      "metadata": {
        "id": "WUsVirKvCXOH"
      }
    },
    {
      "cell_type": "code",
      "source": [
        "frame2.loc['three']\n",
        "\n",
        "# returns the third row in the dataframe"
      ],
      "metadata": {
        "id": "fDSZLnxkCX-H"
      },
      "execution_count": null,
      "outputs": []
    },
    {
      "cell_type": "code",
      "source": [
        "frame2.iloc[0:3, :]\n",
        "\n",
        "# uses numerical index values to retrieve first four rows"
      ],
      "metadata": {
        "id": "5FU0-G6LCZHu"
      },
      "execution_count": null,
      "outputs": []
    },
    {
      "cell_type": "markdown",
      "source": [
        "67. Let's say we wanted to manually assign the values in a particular column, for example the `debt` missing data column.\n"
      ],
      "metadata": {
        "id": "6_TmAK2pCZra"
      }
    },
    {
      "cell_type": "code",
      "source": [
        "frame2['debt'] = 16.5\n",
        "\n",
        "frame2\n",
        "\n",
        "# returns frame2 DataFrame with newly-assigned 16.5 value for all rows in debt column"
      ],
      "metadata": {
        "id": "0QZOyCMJCa0-"
      },
      "execution_count": null,
      "outputs": []
    },
    {
      "cell_type": "markdown",
      "source": [
        "68. We could also manually insert values for specific rows using their index labels.\n",
        "\n",
        "69. If we wanted to add debt values for rows two, four, and five:"
      ],
      "metadata": {
        "id": "OOGHrlXNCb5Y"
      }
    },
    {
      "cell_type": "code",
      "source": [
        "# variable with Series object\n",
        "val = pd.Series([-1.2, -1.5, -1.7], index=['two', 'four', 'five'])\n",
        "\n",
        "# assign val Series object to debt column in frame2 DataFrame\n",
        "frame2['debt'] = val\n",
        "\n",
        "# show modified DataFrame\n",
        "frame2"
      ],
      "metadata": {
        "id": "W9hKr_zaCc8c"
      },
      "execution_count": null,
      "outputs": []
    },
    {
      "cell_type": "markdown",
      "source": [
        "70. We now see the modified `debt` values for the rows specified in the `index=` portion of our code.\n",
        "\n",
        "71. We can remove a column using the `del` keyword."
      ],
      "metadata": {
        "id": "vtNp1NNmCfOL"
      }
    },
    {
      "cell_type": "code",
      "source": [
        "del frame2['debt']\n",
        "\n",
        "# returns updated list of columns\n",
        "frame2.columns\n",
        "\n",
        "# result will be 'year', 'state', and 'pop'"
      ],
      "metadata": {
        "id": "Sp0Gc9-MCdDJ"
      },
      "execution_count": null,
      "outputs": []
    },
    {
      "cell_type": "markdown",
      "source": [
        "<blockquote>Q3: Describe a DataFrame in your own words.</blockquote>\n",
        "\n",
        "<blockquote>Q4: Create your own small DataFrame. Write code that accomplishes the following tasks. Include code + comments.\n",
        " <ul>\n",
        "  <li>Change the original column order</li>\n",
        "  <li>Select a specific column(s) using its index label or name attribute</li>\n",
        "  <li>Select a specific row(s) using its index label or index value</li>\n",
        "  <li>Remove a column from the DataFrame</li>\n",
        "  <li>Determine summary statistics for values in the DataFrame</li>\n",
        " </ul>\n",
        " </blockquote>\n",
        "\n",
        "# From structured data file to `DataFrame`\n",
        "\n",
        "<table>\n",
        " <tr><td>\n",
        "<img src=\"https://elearn.southampton.ac.uk/wp-content/blogs.dir/sites/64/2021/04/PanPan.png\" alt=\"Panopto logo\" width=\"50\"/></td>\n",
        "  <td><a href=\"https://notredame.hosted.panopto.com/Panopto/Pages/Viewer.aspx?id=5f1ed196-cb37-403f-9e19-ad8201622ce5\">Reading and Writing Data Files With Pandas</a></td>\n",
        "  </tr>\n",
        "  </table>\n",
        "\n",
        "73. As mentioned earlier in this lab, it's far more likely that you will load structured data from a file into Python, rather than manually creating a `DataFrame`.\n",
        "\n",
        "74. For this section of the lab, we're going to work with data about *Titanic* passengers.\n",
        "\n",
        "75. Navigate to https://raw.githubusercontent.com/kwaldenphd/pandas-intro/main/data/titanic.csv in a web browser to see the dataset.\n",
        "\n",
        "76. We can load structured data into Python from a file located on our computer or from a URL, using `pd.read_csv()`.\n",
        "\n",
        "77. An example of how we would load the `titanic.csv` file in Python as a `Pandas` DataFrame:"
      ],
      "metadata": {
        "id": "ePJhCqm1ChyM"
      }
    },
    {
      "cell_type": "code",
      "source": [
        "# import pandas\n",
        "import pandas as pd\n",
        "\n",
        "# load titanic data from csv file\n",
        "titanic_file = pd.read_csv(\"titanic.csv\")\n",
        "\n",
        "# show first 5 rows of newly-loaded dataframe\n",
        "titanic_file.head(5)\n",
        "\n",
        "# load titanic data from url\n",
        "titanic = pd.read_csv(\"https://raw.githubusercontent.com/kwaldenphd/pandas-intro/main/data/titanic.csv\")\n",
        "\n",
        "# show first 5 rows of newly-loaded dataframe\n",
        "titanic.head(5)"
      ],
      "metadata": {
        "id": "EtOoaREFCjBS"
      },
      "execution_count": null,
      "outputs": []
    },
    {
      "cell_type": "markdown",
      "source": [
        "78. `pandas` provides the `read_csv()` function which stores `.csv` data as a `pandas` `DataFrame`.\n",
        "\n",
        "79. This `read_` prefix can be used with other structured data file formats, as we'll explore with JSON later.\n",
        "\n",
        "80. Other parsing functions in `pandas`:\n",
        "- `read_fwf`: fixed-width data with no delimiter\n",
        "- `read_clipboard`: reads in data from clipboard\n",
        "- `read_excel`: reads in data from `.xls` or `.xlsx` files\n",
        "- `read_html`: reads in any tables contained in an HTML document\n",
        "- `read_json`: reads in JSON data\n",
        "- `read_sql`: reads in results of an SQL query as a pandas dataframe\n",
        "- `read_sas`: reads in SAS dataset\n",
        "- `read_stata`: reads in Stata file format\n",
        "\n",
        "81. To check the first and last five rows of the `titanic` data frame:"
      ],
      "metadata": {
        "id": "NDOcj3vLCkbj"
      }
    },
    {
      "cell_type": "code",
      "source": [
        "titanic82. We can also check the data type for each column using `.dtypes`.\n"
      ],
      "metadata": {
        "id": "3HjPvOBOClB1"
      },
      "execution_count": null,
      "outputs": []
    },
    {
      "cell_type": "markdown",
      "source": [
        "82. We can also check the data type for each column using `.dtypes`.\n"
      ],
      "metadata": {
        "id": "NsfVYhicCoyJ"
      }
    },
    {
      "cell_type": "code",
      "source": [
        "titanic.dtypes"
      ],
      "metadata": {
        "id": "cjCWoAHpCmPB"
      },
      "execution_count": null,
      "outputs": []
    },
    {
      "cell_type": "markdown",
      "source": [
        "83. From this output, we know we have integers (`int64`), floats (`float64`), and strings (`object`).\n",
        "\n",
        "84. Maybe we want a more technical summary of this `DataFrame`."
      ],
      "metadata": {
        "id": "ruIZ4TexCqip"
      }
    },
    {
      "cell_type": "code",
      "source": [
        "titanic.info()"
      ],
      "metadata": {
        "id": "qG6Qbe0NCnt3"
      },
      "execution_count": null,
      "outputs": []
    },
    {
      "cell_type": "markdown",
      "source": [
        "85. `.info()` returns row numbers, the number of entries, column names, column data types, and the number of non-null values in each column. \n",
        "\n",
        "86. We can see from the `Non-Null Count` values that some columns do have null or missing values.\n",
        "\n",
        "87. `.info()` also tells us how much memory (RAM) is used to store this `DataFrame`.\n",
        "\n",
        "<blockquote>Q5: Write code that loads in a different CSV file as a DataFrame and accomplishes each of the following tasks. Include code + comments.\n",
        " <ul>\n",
        "  <li>Shows the first five rows</li>\n",
        "  <li>Shows the last five rows</li>\n",
        "  <li>Checks the data types for each column</li>\n",
        "  <li>Returns a technical summary for the DataFrame</li>\n",
        " </ul>\n",
        " </blockquote> \n",
        "\n",
        "88. Let's go through these same steps with JSON data scraped from Twitter.\n",
        "\n",
        "89. To learn more about scraping Twitter data with Python, [visit the `twarc` package documentation](https://github.com/DocNow/twarc)."
      ],
      "metadata": {
        "id": "0N0HFWhGCuB8"
      }
    },
    {
      "cell_type": "code",
      "source": [
        "import pandas as pd\n",
        "\n",
        "# load data from JSON file\n",
        "# ND_Twitter_file = pd.read_json(\"ND_Twitter.json\")\n",
        "\n",
        "# show first and last five  rows of new data frame\n",
        "# ND_Twitter_file\n",
        "\n",
        "# load data from url\n",
        "ND_Twitter = pd.read_json(\"https://raw.githubusercontent.com/kwaldenphd/pandas-intro/main/data/ND_Twitter.json\", lines=True)\n",
        "\n",
        "# show first and last five rows \n",
        "ND_Twitter\n",
        "\n",
        "# check data type\n",
        "ND_Twitter.dtypes\n",
        "\n",
        "# check technical summary\n",
        "ND_Twitter.info()"
      ],
      "metadata": {
        "id": "4JhSBvzmCwUJ"
      },
      "execution_count": null,
      "outputs": []
    },
    {
      "cell_type": "markdown",
      "source": [
        "90. In the titanic data example, the `read` operation was fairly straightforward. \n",
        "\n",
        "91. The data being loaded contained headers and was formatted in a way we would expect for a `.csv` file.\n",
        "\n",
        "92. But in many situations, data being loaded to a `DataFrame` will not conform to these formatting conventions.\n",
        "\n",
        "93. Let's say we have a file that does not include a header row.\n",
        "\n",
        "94. `pandas` can assign default column names, or you can set them manually.\n",
        "\n",
        "95. The `titanic_no_header` file contains the same original data with the first row of column names removed.\n"
      ],
      "metadata": {
        "id": "0YUIJd2MC2V2"
      }
    },
    {
      "cell_type": "code",
      "source": [
        "# import pandas \n",
        "import pandas as pd\n",
        "\n",
        "# load headless titanic data\n",
        "headless_titanic_default = pd.read_csv(\"https://raw.githubusercontent.com/kwaldenphd/pandas-intro/main/data/titanic_no_header.csv\", header=None)\n",
        "\n",
        "# shows us the default column names assigned by pandas\n",
        "headless_titanic_default\n",
        "\n",
        "# load headless titanic data and manually assign column names\n",
        "headless_titanic = pd.read_csv(\"https://raw.githubusercontent.com/kwaldenphd/pandas-intro/main/data/titanic_no_header.csv\", names=['PassengerID', 'Survived', 'Pclass', 'Name', 'Sex', 'Age', 'SibSp', 'Parch', 'Ticket', 'Fare' ,'Cabin', 'Embarked'])\n",
        "\n",
        "# shows data frame with manually assigned column names\n",
        "headless_titanic"
      ],
      "metadata": {
        "id": "IKS3TCCLC3ej"
      },
      "execution_count": null,
      "outputs": []
    },
    {
      "cell_type": "markdown",
      "source": [
        "96. Let's say you have a `.txt` file that does not incldue a character delimiter.\n",
        "\n",
        "97. `titanic.txt` is the same titanic data this time as tab-delimited values.\n",
        "\n",
        "98. We would need to specify how `pandas` should parse this data as rows and columns."
      ],
      "metadata": {
        "id": "WnYYJNaaC4fy"
      }
    },
    {
      "cell_type": "code",
      "source": [
        "# import pandas\n",
        "import pandas as pd\n",
        "\n",
        "# load titanic txt data\n",
        "titanic_txt = pd.read_csv(\"https://raw.githubusercontent.com/kwaldenphd/pandas-intro/main/data/titanic.txt\", sep=\"\\t\")\n",
        "\n",
        "# shows first and last five rows of data frame\n",
        "titanic_txt"
      ],
      "metadata": {
        "id": "Cs9U-U99C5d1"
      },
      "execution_count": null,
      "outputs": []
    },
    {
      "cell_type": "markdown",
      "source": [
        "99. We can also run into situations where the data we are loading into Python has missing values.\n",
        "\n",
        "100. Just trying to load a file with missing data will return error messages.\n",
        "\n",
        "101. We can specify what characters representing missing data when we create the `DataFrame`.\n"
      ],
      "metadata": {
        "id": "bsdxn4guC6p3"
      }
    },
    {
      "cell_type": "code",
      "source": [
        "# import pandas\n",
        "import pandas as pd\n",
        "\n",
        "# load data where missing values are represented by NA or Null\n",
        "sample = pd.read_csv(\"file_name.csv\", na_values=['NA', 'Null'])\n",
        "\n",
        "# for a situation where missing values in one column are represented by NA and another column's missing data are represented by Null\n",
        "# first step is to create a dictionary for these column names and null values\n",
        "null_symbols = {'column1': ['NA'], 'column2': ['Null']}\n",
        "\n",
        "# load data where with column-specific missing values\n",
        "sample2 = pd.read_csv(\"file_2_name.csv\", na_values=null_symbols)"
      ],
      "metadata": {
        "id": "oyEN0wiPC7xN"
      },
      "execution_count": null,
      "outputs": []
    },
    {
      "cell_type": "markdown",
      "source": [
        "102. `pd.read_csv` includes other function arguments that can help with other common data formatting issues.\n",
        "\n",
        "Argument | Description\n",
        "--- | ---\n",
        "`sep` or `delimiter` | Specifies the character sequence or regular expression used as a separator or delimiter\n",
        "`header` | Specifies the row number to use as column names; `0` is default (does not need to be specified); `header=None` if no header\n",
        "`index_col` | Specifies the column numbers or names to use as row index \n",
        "`names` | Specifies list of column names for result\n",
        "`skiprows` | Row numbers (starting at 0) for rows to skip\n",
        "`na_values` | Sequence of characters that represent missing or NA data\n",
        "`comment` | Characters used to mark or split off comments that occur at end of lines of data\n",
        "`parse_dates` | Specifies how date and time data will be parsed; `False` by default; `True` will attempt to parse all columns as `datetime` format; can also apply to select columns\n",
        "`dayfirst` | Specifies international date format (DD/MM/YYYY); `False` by default\n",
        "`date_parser` | Function used to parse dates\n",
        "`nrows` | Number of rows to read starting at the beginning of the file; especially helpful when only needing part of a large file\n",
        "`skipfooter` | Number of lines to ignore at the end of the file\n",
        "`encoding` | Specifies encoding schema\n",
        "`thousands` | Specifies `,` or `.` separater for thousands\n",
        "\n",
        "103. Other elements of `.csv` dialect we might encounter when loading a file to a `DataFrame`:\n",
        "\n",
        "Argument | Description\n",
        "--- | ---\n",
        "`delimiter` | One character string used to separate fields; default is `,`\n",
        "`quotechar` | Quote character for fields with specific characters or fields that inclde the delimiter character\n",
        "`skippinitialspace` | Instructs program to ignore whitespace after delimiter; default is `False`\n",
        "`doublequote` | Specifies how to handle quoting character within a field\n",
        "`escapechar` | Specifies the string used to escape the delimiter character if `quoting` is set to `QUOTE_NONE`\n",
        "\n",
        "## Additional Lab Notebook Questions on Loading Data\n",
        "\n",
        "For Q6-Q9, you **do not** need to write code that actually loads an existing data file. That is, the lab does not provide data files that include these structures/attributes.\n",
        "\n",
        "Write **sample code** that shows the syntax you would use to load a file with the structures/attributes described in the question.\n",
        "\n",
        "For example, your answers might look something like the code the accompanies step 101 in the lab procedure.\n",
        "\n",
        "HINT: Be prepared to reference and consult the additional `pd.read_csv` function arguments listed in steps 102-103.\n",
        "\n",
        "<blockquote>Q6: Write code that loads in a structured data file that uses a pipe symbol (|) as a delimiter. Include code + comments.</blockquote>\n",
        " \n",
        "<blockquote>Q7: Write code that loads in structured data file in which missing data values are represented by \"?\", \"??\", and \"-\" characters. Include code + comments.</blockquote>\n",
        "\n",
        "<blockquote>Q8: Write code that ignores the last 6 rows of a structured data file. Include code + comments.</blockquote>\n",
        "\n",
        "<blockquote>Q9: Write code that parses a structured data file in which commas \",\" are used as a thousands separator. Include code + comments.</blockquote>"
      ],
      "metadata": {
        "id": "ODbWYLLWC9ax"
      }
    },
    {
      "cell_type": "markdown",
      "source": [
        "## From `DataFrame` to data file\n",
        "\n",
        "104. Let's say we have data in a `DataFrame` and want to write that to a file.\n",
        "\n",
        "105. While `.read_` loads data, `.to_` writes data.\n",
        "\n",
        "106. To save the titanic data as an Excel file:"
      ],
      "metadata": {
        "id": "BRWh9otHC-xZ"
      }
    },
    {
      "cell_type": "code",
      "source": [
        "titanic.to_excel(\"titanic.xlsx\", sheet_name=\"passengers\", index=False)\n"
      ],
      "metadata": {
        "id": "2fxHThMcC_V8"
      },
      "execution_count": null,
      "outputs": []
    },
    {
      "cell_type": "markdown",
      "source": [
        "107. In this example, we create a new Excel file with a single sheet (`passengers`) that stores the data from our `titanic` `DataFrame`.\n",
        "\n",
        "108. `index=False` means that row index labels are not included in the new spreadsheet.\n",
        "\n",
        "109. We could load back in the new Excel file and write it to a `.csv` file, dropping the header row:"
      ],
      "metadata": {
        "id": "bfGXTAn2DATO"
      }
    },
    {
      "cell_type": "code",
      "source": [
        "# load Excel file as dataframe\n",
        "titanic_excel = pd.read_excel(\"titanic.xlsx\", sheet_name=\"passengers\")\n",
        "\n",
        "# write dataframe to CSV file with no header\n",
        "titanic_excel.to_csv(\"titanic_no_head.csv\", header=False)"
      ],
      "metadata": {
        "id": "1KK1A1cqDBM8"
      },
      "execution_count": null,
      "outputs": []
    },
    {
      "cell_type": "markdown",
      "source": [
        "# Interacting with a `DataFrame`\n",
        "\n",
        "<table>\n",
        " <tr><td>\n",
        "<img src=\"https://elearn.southampton.ac.uk/wp-content/blogs.dir/sites/64/2021/04/PanPan.png\" alt=\"Panopto logo\" width=\"50\"/></td>\n",
        "  <td><a href=\"https://notredame.hosted.panopto.com/Panopto/Pages/Viewer.aspx?id=88e381ae-8154-42cb-8a19-ad8201622c21\">Interacting With a DataFrame</a></td>\n",
        "  </tr>\n",
        "  </table>"
      ],
      "metadata": {
        "id": "uH8gb3iQDCbg"
      }
    },
    {
      "cell_type": "markdown",
      "source": [
        "## Sorting\n",
        "\n",
        "110. `pandas` includes a few different built-in sorting operations.\n",
        "\n",
        "111. We can sort by an index for either axis of our `DataFrame` (i.e. we can sort based on row index labels or by column name).\n",
        "\n",
        "112. Going back to our Titanic passenger data, let's say we wanted to sort by passenger age.\n"
      ],
      "metadata": {
        "id": "LdUIHK7rDDYE"
      }
    },
    {
      "cell_type": "code",
      "source": [
        "# import pandas\n",
        "import pandas as pd\n",
        "\n",
        "# load titanic data from url\n",
        "titanic = pd.read_csv(\"https://raw.githubusercontent.com/kwaldenphd/eda-pandas/main/data/titanic.csv\")\n",
        "\n",
        "# show first 5 rows of newly-loaded dataframe\n",
        "titanic.head(5)\n",
        "\n",
        "# sort by passenger age and show first five rows of the sorted data\n",
        "titanic.sort_values(by=\"Age\").head()"
      ],
      "metadata": {
        "id": "ioGkpYu6DEpi"
      },
      "execution_count": null,
      "outputs": []
    },
    {
      "cell_type": "markdown",
      "source": [
        "\n",
        "113. The default for `.sort_values` is to sort in ascending order.\n",
        "\n",
        "114. We can use `ascending=False` to sort in descending order."
      ],
      "metadata": {
        "id": "d2bul4_SDGbv"
      }
    },
    {
      "cell_type": "code",
      "source": [
        "titanic.sort_values(by=['Age'], ascending=False)"
      ],
      "metadata": {
        "id": "xa17j1RMDFXj"
      },
      "execution_count": null,
      "outputs": []
    },
    {
      "cell_type": "markdown",
      "source": [
        "115. NOTE: When sorting, we are returning a sorted `DataFrame`. We ARE NOT updating the `DataFrame` in place. \n",
        "\n",
        "116. We have a couple of options to sort in place."
      ],
      "metadata": {
        "id": "kR1oiMIPDIPX"
      }
    },
    {
      "cell_type": "code",
      "source": [
        "# create new dataframe with sorted results\n",
        "titanic_by_age = titanic.sort_values(by=\"Age\")\n",
        "\n",
        "# check newly-created dataframe\n",
        "titanic_by_age.head()\n",
        "\n",
        "# sort values in place\n",
        "titanic.sort_values(['Age'], inplace=True)\n",
        "\n",
        "# check newly-created dataframe\n",
        "titanic.head()"
      ],
      "metadata": {
        "id": "FbqeSXbYDJYk"
      },
      "execution_count": null,
      "outputs": []
    },
    {
      "cell_type": "markdown",
      "source": [
        "117. We can also sort by multiple fields.\n",
        "\n",
        "118. To sort by class cabin and age, in descending order:"
      ],
      "metadata": {
        "id": "ufB_9gf8DKcA"
      }
    },
    {
      "cell_type": "code",
      "source": [
        "titanic.sort_values(by=['Pclass', 'Age'], ascending=False).head()"
      ],
      "metadata": {
        "id": "jOOKnjiTDLDf"
      },
      "execution_count": null,
      "outputs": []
    },
    {
      "cell_type": "markdown",
      "source": [
        "119. When sorting by fields with string data, `a-z` is considered `ascending` and `z-a` would be `descending`.\n",
        "\n",
        "## Subsetting"
      ],
      "metadata": {
        "id": "NGGp7PZdDMdS"
      }
    },
    {
      "cell_type": "markdown",
      "source": [
        "### Select\n",
        "\n",
        "120. To review, we can select specific columns from a `DataFrame`. "
      ],
      "metadata": {
        "id": "75PC22k5DNOn"
      }
    },
    {
      "cell_type": "code",
      "source": [
        "# creates Series object with age values\n",
        "ages = titanic[\"Age\"]\n",
        "\n",
        "# show new object\n",
        "ages"
      ],
      "metadata": {
        "id": "TRvnjH3WDOFA"
      },
      "execution_count": null,
      "outputs": []
    },
    {
      "cell_type": "markdown",
      "source": [
        "121. We can use `[\" \"]` to select a specific single column of interest. \n",
        "\n",
        "122. Python returns this single column's data as a `Series` object.\n",
        "\n",
        "123. We can also create a new data frame based on multiple columns."
      ],
      "metadata": {
        "id": "Z-_LkvyzDO7E"
      }
    },
    {
      "cell_type": "code",
      "source": [
        "# selects multiple columns to form new dataframe\n",
        "age_sex = titanic[[\"Age\", \"Sex\"]]\n",
        "\n",
        "# checks first five rows of new dataframe\n",
        "age_sex.head()"
      ],
      "metadata": {
        "id": "LYT2Rx-MDPkp"
      },
      "execution_count": null,
      "outputs": []
    },
    {
      "cell_type": "markdown",
      "source": [
        "124. When selecting multiple columns, the inner brackets (`[]`) define the column names to subset or select.\n",
        "\n",
        "125. The outer brackets select data from a dataframe.\n",
        "\n",
        "126. In this multi-column example, `age_sex` is a `DataFrame` because it is a two-dimensional object.\n",
        "\n",
        "127. For more on sorting operations in `pandas`, check out the package's [\"Sorting\" documentation](https://pandas.pydata.org/pandas-docs/stable/user_guide/basics.html#sorting).\n",
        "\n",
        "### Filter\n",
        "\n",
        "128. As with SQL, we can return rows in our `DataFrame` that meet specific conditions.\n",
        "\n",
        "129. Let's say we wanted to create a new `DataFrame` only containing data for passengers older than 35 years."
      ],
      "metadata": {
        "id": "g_RGWfAWDQ04"
      }
    },
    {
      "cell_type": "code",
      "source": [
        "above_35 = titanic[titanic[\"Age\"] > 35]\n",
        "\n",
        "# check first five rows of newly-created dataframe\n",
        "above_35.head()"
      ],
      "metadata": {
        "id": "1GUAcfyGDSDn"
      },
      "execution_count": null,
      "outputs": []
    },
    {
      "cell_type": "markdown",
      "source": [
        "130. We use brackets (`[]`) to set a condition rows must meet to be assigned to the new dataframe.\n",
        "\n",
        "131. If we just wanted to see whether rows meet this condition in the original `DataFrame`, we could just test for the condition without creating a new `DataFrame`."
      ],
      "metadata": {
        "id": "GSPBmWnkDTGi"
      }
    },
    {
      "cell_type": "code",
      "source": [
        "titanic[\"Age\"] > 35"
      ],
      "metadata": {
        "id": "IjOWEKysDTus"
      },
      "execution_count": null,
      "outputs": []
    },
    {
      "cell_type": "markdown",
      "source": [
        "132. Maybe we want to create a new data frame containing data on passegers in cabin class 2 and 3."
      ],
      "metadata": {
        "id": "DJXisKEiDU-N"
      }
    },
    {
      "cell_type": "code",
      "source": [
        "class_23 = titanic[titanic[\"Pclass\"].isin([2, 3])]\n",
        "\n",
        "# check first five rows of newly-created dataframe\n",
        "class_23.head()"
      ],
      "metadata": {
        "id": "5B0ZNKkCDVuI"
      },
      "execution_count": null,
      "outputs": []
    },
    {
      "cell_type": "markdown",
      "source": [
        "133. The `isin()` conditional function on its own would return a `True` or `False` value.\n",
        "\n",
        "134. By nesting the `isin()` function in brackets (`[]`), we are filtering rows based on rows  that meet the function critera, or return as `True` from this function.\n",
        "\n",
        "135. We could also break out the chained or compound conditional statement using an `OR` operator, `|`."
      ],
      "metadata": {
        "id": "nUd5JC7QDWvq"
      }
    },
    {
      "cell_type": "code",
      "source": [
        "class_23_alternate =  titanic[(titanic[\"Pclass\"] == 2) | (titanic[\"Pclass\"] == 3)]\n",
        "\n",
        "class_23_alternate.head()"
      ],
      "metadata": {
        "id": "r-T5W6qyDXZq"
      },
      "execution_count": null,
      "outputs": []
    },
    {
      "cell_type": "markdown",
      "source": [
        "136. For more on Boolean indexing and the `isin()` function:\n",
        "- [\"Boolean indexing,\" Pandas documentation](https://pandas.pydata.org/pandas-docs/stable/user_guide/indexing.html#indexing-boolean)\n",
        "- [\"Indexing with isin,\" Pandas documentation](https://pandas.pydata.org/pandas-docs/stable/user_guide/indexing.html#indexing-basics-indexing-isin)\n",
        "\n",
        "137. We could also create a new dataframe with passenger data for only passengers that have a known age."
      ],
      "metadata": {
        "id": "fQQv2gcKDYTA"
      }
    },
    {
      "cell_type": "code",
      "source": [
        "age_known = titanic[titanic[\"Age\"].notna()]\n",
        "\n",
        "age_known.head()"
      ],
      "metadata": {
        "id": "pKadluWRDY_n"
      },
      "execution_count": null,
      "outputs": []
    },
    {
      "cell_type": "markdown",
      "source": [
        "138. `.notna()` is a conditional function that returns `True` for rows that do not have a `Null` value.\n",
        "\n",
        "139. For more on missing values and related functions, check out [the \"Working with missing data\" package documentation](https://pandas.pydata.org/pandas-docs/stable/user_guide/missing_data.html#missing-data).\n",
        "\n",
        "### Selecting specific rows and columns\n",
        "\n",
        "140. Selecting lets us isolate columns, and filtering identifies specific rows.\n",
        "\n",
        "141. But we can imagine a scenario in which we would want to combine these elements.\n",
        "\n",
        "142. We might want to create a new dataframe containing only the names of passengers who are over 35 years old."
      ],
      "metadata": {
        "id": "UL1w-W-aDaMR"
      }
    },
    {
      "cell_type": "code",
      "source": [
        "over_35_names = titanic.loc[titanic[\"Age\"] > 35, \"Name\"]\n",
        "\n",
        "over_35_names"
      ],
      "metadata": {
        "id": "1jQReU9FDa77"
      },
      "execution_count": null,
      "outputs": []
    },
    {
      "cell_type": "markdown",
      "source": [
        "143. `.loc` identifies the rows we are writing to the new dataframe.\n",
        "\n",
        "144. What we are passing to the `loc` operator includes the row filter condition (`titanic[\"Age\"] > 35`) and the column we are writing to the new dataframe (`Name`).\n",
        "\n",
        "145. We can also select rows and columns based on their index position.\n",
        "\n",
        "146. We could isolate rows 10-25 and columns 3-5 with the following expression:"
      ],
      "metadata": {
        "id": "31-Ww0BMDcck"
      }
    },
    {
      "cell_type": "code",
      "source": [
        "titanic.iloc[9:25, 2:5]"
      ],
      "metadata": {
        "id": "Yo07M0hGDdYN"
      },
      "execution_count": null,
      "outputs": []
    },
    {
      "cell_type": "markdown",
      "source": [
        "147. We can also assign new values to our selection using `loc` or `iloc`.\n",
        "\n",
        "148. `loc` isolates rows based on their value, while `iloc` isolates rows based on their index position or label.\n",
        "\n",
        "149. Let's say we wanted to anonymize the first three names in the dataset.\n",
        "\n",
        "150. We could do this using `titanic.iloc[0:3, 3] = \"anonymous\"`.\n",
        "\n",
        "151. Consult the [\"Different choices for indexing\"](https://pandas.pydata.org/pandas-docs/stable/user_guide/indexing.html#indexing-choice) documentation for more on indexing options.\n",
        "\n",
        "152. A few key takeaways:\n",
        "- We use square brackets `[]` to subset data.\n",
        "- We can specify single rows or columns, a list of rows/columns, or conditional expression within those brackets\n",
        "- Select specific rows and/or columns using `loc` when working with row/column names\n",
        "- Select specific rows and/or columns usign `iloc` when working with index positions\n",
        "- You can assign new values to selection using `loc` or `iloc`\n",
        "\n",
        "## Removing duplicates\n",
        "\n",
        "153. A useful place to start is identifying and removing any duplicate rows in a dataframe.\n",
        "\n",
        "154. We can do this using a few key functions.\n",
        "\n",
        "155. `.duplicated()` will return a `True` or `False` value indicating if a row is a duplicate of a previously occuring row."
      ],
      "metadata": {
        "id": "anC_Ik0IDfM6"
      }
    },
    {
      "cell_type": "code",
      "source": [
        "data_frame.duplicated()"
      ],
      "metadata": {
        "id": "taKkB6fsDf3x"
      },
      "execution_count": null,
      "outputs": []
    },
    {
      "cell_type": "markdown",
      "source": [
        "156. `.drop_duplicates()` will return a dataframe containing only rows that are not duplicated."
      ],
      "metadata": {
        "id": "GqQL4wV5Dg_O"
      }
    },
    {
      "cell_type": "code",
      "source": [
        "new_data_frame = old_data_frame.drop_duplicates()"
      ],
      "metadata": {
        "id": "_kYa6LhFDhzf"
      },
      "execution_count": null,
      "outputs": []
    },
    {
      "cell_type": "markdown",
      "source": [
        "## Handling missing data\n"
      ],
      "metadata": {
        "id": "0yFWnOF1Di4p"
      }
    },
    {
      "cell_type": "markdown",
      "source": [
        "### `.dropna()`\n",
        "\n",
        "157. As mentioned previously, we can specify how `pandas` handles missing data, with arguments like `dropna`, `isnull`, and `notnull`.\n",
        "\n",
        "158. We can specify how `pandas` handles missing values when working with a data frame object.\n",
        "\n",
        "159. To drop any row containing a missing value:"
      ],
      "metadata": {
        "id": "CPLeJjzoDj_T"
      }
    },
    {
      "cell_type": "code",
      "source": [
        "no_na = data_frame.dropna()"
      ],
      "metadata": {
        "id": "CD2ov0tXDkk7"
      },
      "execution_count": null,
      "outputs": []
    },
    {
      "cell_type": "markdown",
      "source": [
        "160. To drop any column containing a missing value, we can specify the axis:"
      ],
      "metadata": {
        "id": "zz-UJFEaDlfO"
      }
    },
    {
      "cell_type": "code",
      "source": [
        "no_na_columns = data_frame.dropna(axis=1, how='all')"
      ],
      "metadata": {
        "id": "zdX0T9aQDmfO"
      },
      "execution_count": null,
      "outputs": []
    },
    {
      "cell_type": "markdown",
      "source": [
        "### `.fillna`\n",
        "\n",
        "161. But we can imagine a scenario in which you don't want to filter out missing data.\n",
        "\n",
        "162. The `.fillna()` function will replace missing data with a specified value.\n",
        "\n",
        "163. The default function will replace all missing data in the dataframe:"
      ],
      "metadata": {
        "id": "ZlpbGxTSDoE1"
      }
    },
    {
      "cell_type": "code",
      "source": [
        "# replaces all missing data with 0\n",
        "df.fillna(0)"
      ],
      "metadata": {
        "id": "s-n-ggvkDpSG"
      },
      "execution_count": null,
      "outputs": []
    },
    {
      "cell_type": "markdown",
      "source": [
        "164. But we can also specify a different missing fill value for specific columns using a dictionary."
      ],
      "metadata": {
        "id": "WvvLZ_eqDq4y"
      }
    },
    {
      "cell_type": "code",
      "source": [
        "# replace missing data in column 1 with 0.5 value and in column 2 with 0\n",
        "df.fillna({1: 0.5, 2: 0})"
      ],
      "metadata": {
        "id": "_U-XpzK4DqDL"
      },
      "execution_count": null,
      "outputs": []
    },
    {
      "cell_type": "markdown",
      "source": [
        "165. In these examples, `.fillna()` returns a new object, but we can also modify the existing object in-place by setting `inplace` to `True`."
      ],
      "metadata": {
        "id": "gk_UR2EcDsTy"
      }
    },
    {
      "cell_type": "code",
      "source": [
        "# modify existing object in-place\n",
        "df.fillna(0, inplace=True)"
      ],
      "metadata": {
        "id": "Uzr6PloSDtMu"
      },
      "execution_count": null,
      "outputs": []
    },
    {
      "cell_type": "markdown",
      "source": [
        "166. We can also copy (or propogate) the last valid observation into missing data using specific methods that go along with `.fillna()`.\n",
        "\n",
        "167. Fill Forward (`ffill`) will take the \"last known value\" and apply it to missing data entries, until you hit the next non-null observation in the data frame.\n",
        "\n",
        "168. Back Fill (`bfill`) goes the other direction, starting from the last row in the dataset. The \"last known value\" is applied to missing data entries until you hit the next non-null observation.\n",
        "\n",
        "169. To use forward fill on all missing values in a dataframe:"
      ],
      "metadata": {
        "id": "ddivbzQsDuRJ"
      }
    },
    {
      "cell_type": "code",
      "source": [
        "df.fillna(method='ffill')"
      ],
      "metadata": {
        "id": "M7_JAwlxDvEH"
      },
      "execution_count": null,
      "outputs": []
    },
    {
      "cell_type": "markdown",
      "source": [
        "170. To use back fill on all missing values in a dataframe:\n"
      ],
      "metadata": {
        "id": "q_TzeGP_Dwe6"
      }
    },
    {
      "cell_type": "code",
      "source": [
        "df.fillna(method='bfill')"
      ],
      "metadata": {
        "id": "28al9P_jDvsI"
      },
      "execution_count": null,
      "outputs": []
    },
    {
      "cell_type": "markdown",
      "source": [
        "<blockquote>Q10: Using the DataFrame you created for Q5, write code that executes AT LEAST FOUR of the following tasks. Include code + comments.\n",
        " <ul>\n",
        "  <li>Sorts a column by ascending values</li>\n",
        "  <li>Sorts a column by descending values</li>\n",
        "  <li>Selects a specific column in the DataFrame</li>\n",
        "  <li>Creates a new DataFrame with select columns from existing DataFrame</li>\n",
        "  <li>Uses a comparison operator to filter rows in the DataFrame</li>\n",
        "  <li>Uses an isin statement to filter rows in the DataFrame</li>\n",
        "  <li>Selects specific rows and columns</li>\n",
        "  <li>Removes duplicate rows</li>\n",
        "  <li>Removes rows with missing values</li>\n",
        "  <li>Fills missing values using .fillna, ffill, or bfill</li>\n",
        " </ul>\n",
        " </blockquote>"
      ],
      "metadata": {
        "id": "AwCdDZGSDyNB"
      }
    },
    {
      "cell_type": "markdown",
      "source": [
        "# Lab Notebook Questions\n",
        "\n",
        "Lab notebook template:\n",
        "- [Jupyter Notebook](https://drive.google.com/file/d/1n0wgG7MpxDjuP_gwcSQlm1onxvYQkYTs/view?usp=sharing)\n",
        "\n",
        "Submit two versions of your lab notebook on Canvas- a Jupyter Notebook (.ipynb) file and a PDF (a process we work through in an earlier lab).\n",
        "\n",
        "Q1: Describe a Series object in your own words.\n",
        "\n",
        "Q2: Create your own Series object. Write code the accomplishes the following tasks. Include code + comments.\n",
        "- Assign unique index attributes for each series value\n",
        "- Access a series value(s) using the index label\n",
        "- Perform at least two unique arithmetic operations on the Series\n",
        "- Test for null values in your series\n",
        "\n",
        "Q3: Describe a DataFrame in your own words.\n",
        "\n",
        "Q4: Create your own small DataFrame. Write code that accomplishes the following tasks. Include code + comments.\n",
        "- Change the original column order\n",
        "- Select a specific column(s) using its index label or name attribute\n",
        "- Select a specific row(s) using its index label or index value\n",
        "- Remove a column from the DataFrame\n",
        "- Determine summary statistics for values in the DataFrame\n",
        "\n",
        "Q5: Write code that loads in a different CSV file as a DataFrame and accomplishes each of the following tasks. Include code + comments.\n",
        "- Shows the first five rows\n",
        "- Shows the last five rows\n",
        "- Checks the data types for each column\n",
        "- Returns a technical summary for the DataFrame\n",
        "\n",
        "For Q6-Q9, you do not need to write code that actually loads an existing data file. That is, the lab does not provide data files that include these structures/attributes.\n",
        "\n",
        "Write sample code that shows the syntax you would use to load a file with the structures/attributes described in the question.\n",
        "\n",
        "For example, your answers might look something like the code the accompanies step 101 in the lab procedure.\n",
        "\n",
        "HINT: Be prepared to reference and consult the additional pd.read_csv function arguments listed in steps 102-103.\n",
        "\n",
        "Q6: Write code that loads in a structured data file that uses a pipe symbol (|) as a delimiter. Include code + comments.\n",
        " \n",
        "Q7: Write code that loads in structured data file in which missing data values are represented by \"?\", \"??\", and \"-\" characters. Include code + comments.\n",
        "\n",
        "Q8: Write code that ignores the last 6 rows of a structured data file. Include code + comments.\n",
        "\n",
        "Q9: Write code that parses a structured data file in which commas \",\" are used as a thousands separator. Include code + comments\n",
        "\n",
        "Q10: Using the DataFrame you created for Q5, write code that executes AT LEAST FOUR of the following tasks. Include code + comments.\n",
        "- Sorts a column by ascending values\n",
        "- Sorts a column by descending values\n",
        "- Selects a specific column in the DataFrame\n",
        "- Creates a new DataFrame with select columns from existing DataFrame\n",
        "- Uses a comparison operator to filter rows in the DataFrame\n",
        "- Uses an isin statement to filter rows in the DataFrame\n",
        "- Selects specific rows and columns\n",
        "- Removes duplicate rows\n",
        "- Removes rows with missing values\n",
        "- Fills missing values using .fillna, ffill, or bfill"
      ],
      "metadata": {
        "id": "kDHw7WAWDykQ"
      }
    }
  ],
  "metadata": {
    "kernelspec": {
      "display_name": "Python 3",
      "language": "python",
      "name": "python3"
    },
    "language_info": {
      "codemirror_mode": {
        "name": "ipython",
        "version": 3
      },
      "file_extension": ".py",
      "mimetype": "text/x-python",
      "name": "python",
      "nbconvert_exporter": "python",
      "pygments_lexer": "ipython3",
      "version": "3.8.8"
    },
    "colab": {
      "name": "python-pandas-intro-procedure.ipynb",
      "provenance": [],
      "toc_visible": true,
      "include_colab_link": true
    }
  },
  "nbformat": 4,
  "nbformat_minor": 0
}