{
  "nbformat": 4,
  "nbformat_minor": 0,
  "metadata": {
    "colab": {
      "provenance": [],
      "toc_visible": true,
      "authorship_tag": "ABX9TyMU7aAByULypbnQ1oFHid+N",
      "include_colab_link": true
    },
    "kernelspec": {
      "name": "python3",
      "display_name": "Python 3"
    },
    "language_info": {
      "name": "python"
    }
  },
  "cells": [
    {
      "cell_type": "markdown",
      "metadata": {
        "id": "view-in-github",
        "colab_type": "text"
      },
      "source": [
        "<a href=\"https://colab.research.google.com/github/kwaldenphd/pandas-intro/blob/main/python_pandas_intro_lab_notebook_template.ipynb\" target=\"_parent\"><img src=\"https://colab.research.google.com/assets/colab-badge.svg\" alt=\"Open In Colab\"/></a>"
      ]
    },
    {
      "cell_type": "markdown",
      "source": [
        "# Getting Started With Pandas "
      ],
      "metadata": {
        "id": "7MzhNm9Tt6d3"
      }
    },
    {
      "cell_type": "markdown",
      "metadata": {
        "id": "ff876fb9"
      },
      "source": [
        "Student Name: **Enter Your Name Here (Double click to edit)**\n",
        "<br>\n",
        "Net ID: **Enter Your NetID Here (Double click to edit)**\n",
        "<br>"
      ]
    },
    {
      "cell_type": "markdown",
      "source": [
        "## Lab Notebook Questions"
      ],
      "metadata": {
        "id": "tQARbhvayCrm"
      }
    },
    {
      "cell_type": "markdown",
      "source": [
        "### **Q1: Describe a `Series` object in your own words.**\n"
      ],
      "metadata": {
        "id": "pgEKP1FtpExo"
      }
    },
    {
      "cell_type": "markdown",
      "metadata": {
        "id": "L0cFnREpis-5"
      },
      "source": [
        "**AnswerQ1**: Your answer here (double click to edit)"
      ]
    },
    {
      "cell_type": "code",
      "source": [
        "# your codes here (double click to edit)"
      ],
      "metadata": {
        "id": "3ljNdsyxpQRa"
      },
      "execution_count": null,
      "outputs": []
    },
    {
      "cell_type": "markdown",
      "source": [
        "### **Q2: Create your own `Series` object. Write code the accomplishes the following tasks. Your answer for these items should include a Python program + comments that document process and explain your code.**\n",
        "- Assign unique index attributes for each series value\n",
        "- Access a series value(s) using the index label\n",
        "- Perform at least two unique arithmetic operations on the Series\n",
        "- Test for null values in your series"
      ],
      "metadata": {
        "id": "FembQg4kp_M2"
      }
    },
    {
      "cell_type": "markdown",
      "metadata": {
        "id": "v2XYT06SpfJQ"
      },
      "source": [
        "**AnswerQ2**: Your answer here (double click to edit)"
      ]
    },
    {
      "cell_type": "code",
      "source": [
        "# your codes here (double click to edit)\n",
        "\n",
        "# create series object\n",
        "\n",
        "# assign unique index attributes\n",
        "\n",
        "# access value using index label\n",
        "\n",
        "# first arithmetic operation\n",
        "\n",
        "# second arithmetic operation\n",
        "\n",
        "# test for null values"
      ],
      "metadata": {
        "id": "LWk_FYvnuw1r"
      },
      "execution_count": null,
      "outputs": []
    },
    {
      "cell_type": "markdown",
      "source": [
        "### **Q3: Describe a DataFrame in your own words.** "
      ],
      "metadata": {
        "id": "3URjcSZDpbFu"
      }
    },
    {
      "cell_type": "markdown",
      "metadata": {
        "id": "mB-kFikxis_I"
      },
      "source": [
        "**AnswerQ3:** Your answer here (double click to edit)"
      ]
    },
    {
      "cell_type": "code",
      "execution_count": null,
      "metadata": {
        "id": "XeLFq06ku83j"
      },
      "outputs": [],
      "source": [
        "# your codes here (double click to edit)"
      ]
    },
    {
      "cell_type": "markdown",
      "source": [
        "### **Q4: Create your own small DataFrame. Write code that accomplishes the following tasks. Your answer for these items should include a Python program + comments that document process and explain your code.**\n",
        "\n",
        "- Change the original column order\n",
        "- Select a specific column(s) using its index label or name attribute\n",
        "- Select a specific row(s) using its index label or index value\n",
        "- Remove a column from the DataFrame\n",
        "- Determine summary statistics for values in the DataFrame"
      ],
      "metadata": {
        "id": "1HWIBpTsawd8"
      }
    },
    {
      "cell_type": "markdown",
      "metadata": {
        "id": "Cf3iN_D7is_N"
      },
      "source": [
        "**AnswerQ4:** Your answer here (double click to edit)"
      ]
    },
    {
      "cell_type": "code",
      "execution_count": null,
      "metadata": {
        "id": "9jRJxH98azdc"
      },
      "outputs": [],
      "source": [
        "# your codes here (double click to edit)\n",
        "\n",
        "# create dataframe\n",
        "\n",
        "# change column order\n",
        "\n",
        "# select column\n",
        "\n",
        "# select row\n",
        "\n",
        "# remove column\n",
        "\n",
        "# summary statistics"
      ]
    },
    {
      "cell_type": "markdown",
      "source": [
        "### **Q5: Write code that loads in a different `.csv` file as a DataFrame and accomplishes each of the following tasks. Your answer for these items should include a Python program + comments that document process and explain your code.**\n",
        "\n",
        "- Shows the first five rows\n",
        "- Shows the last five rows\n",
        "- Checks the data types for each column\n",
        "- Returns a technical summary for the DataFrame"
      ],
      "metadata": {
        "id": "NIornfjZpmFy"
      }
    },
    {
      "cell_type": "markdown",
      "metadata": {
        "id": "3BAA-_Vyis_X"
      },
      "source": [
        "**AnswerQ5:** Your answer here (double click to edit)"
      ]
    },
    {
      "cell_type": "code",
      "execution_count": null,
      "metadata": {
        "id": "r_wK6Djjd3TQ"
      },
      "outputs": [],
      "source": [
        "# your codes here (double click to edit)\n",
        "\n",
        "# load file as dataframe\n",
        "\n",
        "# show first five rows\n",
        "\n",
        "# show last five rows\n",
        "\n",
        "# check column data types\n",
        "\n",
        "# technical summary"
      ]
    },
    {
      "cell_type": "markdown",
      "source": [
        "#### ***For the Q6 programs, you do not need to write code that actually loads an existing data file. That is, the lab does not provide data files that include these structures/attributes. Write sample code that shows the syntax you would use to load a file with the structures/attributes described in the question. For example, your answers might look something like the sample syntax shown in the previous section of the lab.***\n",
        "\n",
        "- HINT: Be prepared to reference and consult the additional pd.read_csv function arguments listed in the previous lab section's tables."
      ],
      "metadata": {
        "id": "_4UTDBVEvN7_"
      }
    },
    {
      "cell_type": "markdown",
      "source": [
        "### **Q6A: Write code that loads in a structured data file that uses a pipe symbol (|) as a delimiter. Include code + comments.**\n",
        "\n",
        "### **Q6B: Write code that loads in structured data file in which missing data values are represented by \"?\", \"??\", and \"-\" characters. Include code + comments.**\n",
        "\n",
        "### **Q6C: Write code that ignores the last 6 rows of a structured data file. Include code + comments.** \n",
        "\n",
        "### **Q6D: Write code that parses a structured data file in which commas \",\" are used as a thousands separator. Include code + comments.**"
      ],
      "metadata": {
        "id": "ymUHiLayptBD"
      }
    },
    {
      "cell_type": "markdown",
      "metadata": {
        "id": "hcRpdIN_is_b"
      },
      "source": [
        "**AnswerQ6:** Your answer here (double click to edit)"
      ]
    },
    {
      "cell_type": "code",
      "execution_count": null,
      "metadata": {
        "id": "9lT7urowd9w3"
      },
      "outputs": [],
      "source": [
        "# your codes here (double click to edit)\n",
        "\n",
        "# Q6A program\n",
        "\n",
        "\n",
        "# Q6B program\n",
        "\n",
        "\n",
        "# Q6C program\n",
        "\n",
        "\n",
        "# Q6D program"
      ]
    },
    {
      "cell_type": "markdown",
      "source": [
        "### **Q7A: Using the DataFrame you created for Q5, write code that executes AT LEAST FOUR of the following tasks. Your answer for these items should include a Python program + comments that document process and explain your code.**\n",
        "- Sorts a column by ascending values\n",
        "- Sorts a column by descending values\n",
        "- Selects a specific column in the DataFrame\n",
        "- Creates a new DataFrame with select columns from existing DataFrame\n",
        "- Uses a comparison operator to filter rows in the DataFrame\n",
        "- Uses an isin statement to filter rows in the DataFrame\n",
        "- Selects specific rows and columns\n",
        "\n",
        "### **Q7B: Write your modified `DataFrame` from Q7A to a `.csv` file. Your answer for these items should include a Python program + comments that document process and explain your code.**"
      ],
      "metadata": {
        "id": "HtUKT1xNqJQy"
      }
    },
    {
      "cell_type": "markdown",
      "metadata": {
        "id": "tihNYy4uis_c"
      },
      "source": [
        "**AnswerQ7:** Your answer here (double click to edit)"
      ]
    },
    {
      "cell_type": "code",
      "execution_count": null,
      "metadata": {
        "id": "roxNuL4SHkw3"
      },
      "outputs": [],
      "source": [
        "# your codes here (double click to edit)\n",
        "\n",
        "# first task\n",
        "\n",
        "\n",
        "# second task\n",
        "\n",
        "\n",
        "# third task\n",
        "\n",
        "\n",
        "# fourth task\n",
        "\n",
        "\n",
        "# write to CSV file"
      ]
    },
    {
      "cell_type": "markdown",
      "source": [
        "### **Q8A: Using the DataFrame you created for Q5 (and used in Q7), write code that executes AT LEAST ONE of the following tasks. Your answer for these items should include a Python program + comments that document process and explain your code.**\n",
        "\n",
        "- Removes duplicate rows\n",
        "- Removes rows with missing values\n",
        "- Fills missing values using .fillna, ffill, or bfill\n",
        "\n",
        "### **Q8B: Write your modified `DataFrame` from Q11A to a `.csv` file. Your answer for these items should include a Python program + comments that document process and explain your code.**"
      ],
      "metadata": {
        "id": "vu71MpmSivh5"
      }
    },
    {
      "cell_type": "markdown",
      "metadata": {
        "id": "G4XagE0Va57Q"
      },
      "source": [
        "**AnswerQ8:** Your answer here (double click to edit)"
      ]
    },
    {
      "cell_type": "code",
      "execution_count": null,
      "metadata": {
        "id": "8f8fxymXICRJ"
      },
      "outputs": [],
      "source": [
        "# your codes here (double click to edit)\n",
        "\n",
        "# task program\n",
        "\n",
        "# write to CSV file"
      ]
    }
  ]
}