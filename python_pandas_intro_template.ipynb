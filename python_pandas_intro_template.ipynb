{
  "cells": [
    {
      "cell_type": "markdown",
      "metadata": {
        "id": "view-in-github",
        "colab_type": "text"
      },
      "source": [
        "<a href=\"https://colab.research.google.com/github/kwaldenphd/pandas-intro/blob/main/python_pandas_intro_template.ipynb\" target=\"_parent\"><img src=\"https://colab.research.google.com/assets/colab-badge.svg\" alt=\"Open In Colab\"/></a>"
      ]
    },
    {
      "cell_type": "markdown",
      "metadata": {
        "id": "E6EuZiHW78Tn"
      },
      "source": [
        "# Pandas Intro"
      ]
    },
    {
      "cell_type": "markdown",
      "metadata": {
        "id": "jU8i15Iz78Tr"
      },
      "source": [
        "Student Name: **Enter Your Name Here (Double click to edit)**\n",
        "<br>\n",
        "Net ID: **Enter Your NetID Here (Double click to edit)**\n",
        "<br>\n",
        "\n",
        "Submit two versions of your lab notebook on Canvas- a Jupyter Notebook (.ipynb) file and a PDF (a process we work through in an earlier lab)."
      ]
    },
    {
      "cell_type": "markdown",
      "source": [
        "## Lab Notebook Questions"
      ],
      "metadata": {
        "id": "8LgW6hVx8K9M"
      }
    },
    {
      "cell_type": "markdown",
      "metadata": {
        "id": "mQ0GZsNu78Tu"
      },
      "source": [
        "### **Q1: Describe a Series object in your own words**"
      ]
    },
    {
      "cell_type": "markdown",
      "metadata": {
        "id": "55Jp58l078Tv"
      },
      "source": [
        "**AnswerQ1**: Your answer here (double click to edit)"
      ]
    },
    {
      "cell_type": "code",
      "execution_count": null,
      "metadata": {
        "id": "C8568ysr78Tx"
      },
      "outputs": [],
      "source": [
        "# your codes here (if needed)"
      ]
    },
    {
      "cell_type": "markdown",
      "metadata": {
        "id": "AVCvM7xF78T0"
      },
      "source": [
        "### <b>Q2: Create your own Series object. Write code the accomplishes the following tasks. Include code + comments.\n",
        "- Assign unique index attributes for each series value\n",
        "- Access a series value(s) using the index label\n",
        "- Perform at least two unique arithmetic operations on the Series\n",
        "- Test for null values in your series</b> "
      ]
    },
    {
      "cell_type": "markdown",
      "metadata": {
        "id": "ENM6DDvF78T2"
      },
      "source": [
        "**AnswerQ2**: Your answer here (double click to edit)"
      ]
    },
    {
      "cell_type": "code",
      "execution_count": null,
      "metadata": {
        "id": "3xTHRVAm78T2"
      },
      "outputs": [],
      "source": [
        "# create series\n",
        "\n",
        "# access index attributes\n",
        "\n",
        "# access value using index label\n",
        "\n",
        "# first arithmetic operation\n",
        "\n",
        "# second arithmetic operation\n",
        "\n",
        "# test for null values"
      ]
    },
    {
      "cell_type": "markdown",
      "metadata": {
        "id": "k_r0tcO678T4"
      },
      "source": [
        "### **Q3: Describe a DataFrame in your own words.**"
      ]
    },
    {
      "cell_type": "markdown",
      "metadata": {
        "id": "b_bgUN1Q78T5"
      },
      "source": [
        "**AnswerQ3**: Your answer here (double click to edit)"
      ]
    },
    {
      "cell_type": "code",
      "execution_count": null,
      "metadata": {
        "id": "Mjy2D3bQ78T6"
      },
      "outputs": [],
      "source": [
        "# your codes here (if needed)"
      ]
    },
    {
      "cell_type": "markdown",
      "metadata": {
        "id": "k5hOt99U78T6"
      },
      "source": [
        "### <b>Q4: Create your own small DataFrame. Write code that accomplishes the following tasks. Include code + comments.\n",
        "- Change the original column order\n",
        "- Select a specific column(s) using its index label or name attribute\n",
        "- Select a specific row(s) using its index label or index value\n",
        "- Remove a column from the DataFrame\n",
        "- Determine summary statistics for values in the DataFrame</b>"
      ]
    },
    {
      "cell_type": "markdown",
      "metadata": {
        "id": "0ugP7deT78T8"
      },
      "source": [
        "**AnswerQ4**: Your answer here (double click to edit)"
      ]
    },
    {
      "cell_type": "code",
      "execution_count": null,
      "metadata": {
        "id": "xP8VWsMp78T8"
      },
      "outputs": [],
      "source": [
        "# create df\n",
        "\n",
        "# change column order\n",
        "\n",
        "# select column using index label/name attribute\n",
        "\n",
        "# select row using index label/index value\n",
        "\n",
        "# remove column\n",
        "\n",
        "# summary statistics"
      ]
    },
    {
      "cell_type": "markdown",
      "metadata": {
        "id": "DGKHFNFQ78T9"
      },
      "source": [
        "### <b>Q5: Write code that loads in a different CSV file as a DataFrame and accomplishes each of the following tasks. Include code + comments.\n",
        "- Shows the first five rows\n",
        "- Shows the last five rows\n",
        "- Checks the data types for each column\n",
        "- Returns a technical summary for the DataFrame</b>"
      ]
    },
    {
      "cell_type": "markdown",
      "metadata": {
        "id": "dDYEm3et78T-"
      },
      "source": [
        "**AnswerQ5**: Your answer here (double click to edit)"
      ]
    },
    {
      "cell_type": "code",
      "execution_count": null,
      "metadata": {
        "id": "e_-E1Dfz78T_"
      },
      "outputs": [],
      "source": [
        "# load data\n",
        "\n",
        "# show first five rows\n",
        "\n",
        "# show last five rows\n",
        "\n",
        "# check data types for each column\n",
        "\n",
        "# return technical summary"
      ]
    },
    {
      "cell_type": "markdown",
      "metadata": {
        "id": "6s7DaSaW78UA"
      },
      "source": [
        "For Q6-Q9, you **do not** need to write code that actually loads an existing data file. That is, the lab does not provide data files that include these structures/attributes.\n",
        "\n",
        "Write **sample code** that shows the syntax you would use to load a file with the structures/attributes described in the question.\n",
        "\n",
        "For example, your answers might look something like the code the accompanies step 101 in the lab procedure.\n",
        "\n",
        "HINT: Be prepared to reference and consult the additional `pd.read_csv` function arguments listed in steps 102-103.\n",
        "\n",
        "### **Q6: Write code that loads in a structured data file that uses a pipe symbol (|) as a delimiter. Include code + comments.**"
      ]
    },
    {
      "cell_type": "markdown",
      "metadata": {
        "id": "Z3a5uH7-78UA"
      },
      "source": [
        "**AnswerQ6**: Your answer here (double click to edit)"
      ]
    },
    {
      "cell_type": "code",
      "execution_count": null,
      "metadata": {
        "id": "fhvVcasi78UB"
      },
      "outputs": [],
      "source": [
        "# your codes here (if needed)"
      ]
    },
    {
      "cell_type": "markdown",
      "metadata": {
        "id": "Xv36Y0uk78UB"
      },
      "source": [
        "### **Q7: Write code that loads in structured data file in which missing data values are represented by \"?\", \"??\", and \"-\" characters. Include code + comments.**"
      ]
    },
    {
      "cell_type": "markdown",
      "metadata": {
        "id": "YsBlAwqF78UB"
      },
      "source": [
        "**AnswerQ7**: Your answer here (double click to edit)"
      ]
    },
    {
      "cell_type": "code",
      "execution_count": null,
      "metadata": {
        "id": "dqtZqweH78UB"
      },
      "outputs": [],
      "source": [
        "# your codes here (if needed)"
      ]
    },
    {
      "cell_type": "markdown",
      "metadata": {
        "id": "ERdCmqiy78UC"
      },
      "source": [
        "### **Q8: Write code that ignores the last 6 rows of a structured data file. Include code + comments.**"
      ]
    },
    {
      "cell_type": "markdown",
      "metadata": {
        "id": "J_7JV4ut78UF"
      },
      "source": [
        "**AnswerQ8**: Your answer here (double click to edit)"
      ]
    },
    {
      "cell_type": "code",
      "execution_count": null,
      "metadata": {
        "id": "KfoIZFiM78UG"
      },
      "outputs": [],
      "source": [
        "# your codes here (if needed)"
      ]
    },
    {
      "cell_type": "markdown",
      "metadata": {
        "id": "KAWRg-2j78UG"
      },
      "source": [
        "### **Q9: Write code that parses a structured data file in which commas \",\" are used as a thousands separator. Include code + comments**"
      ]
    },
    {
      "cell_type": "markdown",
      "metadata": {
        "id": "fW0LqCK778UG"
      },
      "source": [
        "**AnswerQ9**: Your answer here (double click to edit)"
      ]
    },
    {
      "cell_type": "code",
      "execution_count": null,
      "metadata": {
        "id": "-gIlUI0Z78UH"
      },
      "outputs": [],
      "source": [
        "# your codes here (if needed)"
      ]
    },
    {
      "cell_type": "markdown",
      "metadata": {
        "id": "jZH1hBn578UH"
      },
      "source": [
        "### <b>Q10: Using the DataFrame you created for Q5, write code that executes AT LEAST FOUR of the following tasks. Include code + comments.\n",
        "- Sorts a column by ascending values\n",
        "- Sorts a column by descending values\n",
        "- Selects a specific column in the DataFrame\n",
        "- Creates a new DataFrame with select columns from existing DataFrame\n",
        "- Uses a comparison operator to filter rows in the DataFrame\n",
        "- Uses an isin statement to filter rows in the DataFrame\n",
        "- Selects specific rows and columns\n",
        "- Removes duplicate rows\n",
        "- Removes rows with missing values\n",
        "- Fills missing values using .fillna, ffill, or bfill</b>"
      ]
    },
    {
      "cell_type": "markdown",
      "metadata": {
        "id": "lU5TW9qg78UI"
      },
      "source": [
        "**AnswerQ10**: Your answer here (double click to edit)"
      ]
    },
    {
      "cell_type": "code",
      "execution_count": null,
      "metadata": {
        "id": "sHZplA8V78UI"
      },
      "outputs": [],
      "source": [
        "# first task\n",
        "\n",
        "# second task\n",
        "\n",
        "# third task\n",
        "\n",
        "# fourth task"
      ]
    }
  ],
  "metadata": {
    "kernelspec": {
      "display_name": "Python 3",
      "language": "python",
      "name": "python3"
    },
    "language_info": {
      "codemirror_mode": {
        "name": "ipython",
        "version": 3
      },
      "file_extension": ".py",
      "mimetype": "text/x-python",
      "name": "python",
      "nbconvert_exporter": "python",
      "pygments_lexer": "ipython3",
      "version": "3.8.8"
    },
    "colab": {
      "name": "python-pandas-intro-template.ipynb",
      "provenance": [],
      "toc_visible": true,
      "include_colab_link": true
    }
  },
  "nbformat": 4,
  "nbformat_minor": 0
}